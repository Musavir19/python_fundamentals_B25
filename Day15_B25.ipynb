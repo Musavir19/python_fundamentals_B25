{
 "cells": [
  {
   "cell_type": "code",
   "execution_count": null,
   "metadata": {},
   "outputs": [],
   "source": [
    " Introduction to Arbitary Arguments:     /speculative"
   ]
  },
  {
   "cell_type": "code",
   "execution_count": 13,
   "metadata": {},
   "outputs": [],
   "source": [
    "def make_pizza(topping):\n",
    "    \"\"\"creating a function for getting the details of topping:\"\"\"\n",
    "    print(topping)"
   ]
  },
  {
   "cell_type": "code",
   "execution_count": 14,
   "metadata": {},
   "outputs": [
    {
     "name": "stdout",
     "output_type": "stream",
     "text": [
      "corn\n"
     ]
    },
    {
     "ename": "TypeError",
     "evalue": "make_pizza() takes 1 positional argument but 3 were given",
     "output_type": "error",
     "traceback": [
      "\u001b[1;31m---------------------------------------------------------------------------\u001b[0m",
      "\u001b[1;31mTypeError\u001b[0m                                 Traceback (most recent call last)",
      "\u001b[1;32m<ipython-input-14-1945c983f0a1>\u001b[0m in \u001b[0;36m<module>\u001b[1;34m\u001b[0m\n\u001b[0;32m      1\u001b[0m \u001b[0mmake_pizza\u001b[0m\u001b[1;33m(\u001b[0m\u001b[1;34m'corn'\u001b[0m\u001b[1;33m)\u001b[0m  \u001b[1;31m#1st Person\u001b[0m\u001b[1;33m\u001b[0m\u001b[1;33m\u001b[0m\u001b[0m\n\u001b[1;32m----> 2\u001b[1;33m \u001b[0mmake_pizza\u001b[0m\u001b[1;33m(\u001b[0m\u001b[1;34m'olives'\u001b[0m\u001b[1;33m,\u001b[0m\u001b[1;34m'onions'\u001b[0m\u001b[1;33m,\u001b[0m\u001b[1;34m'tomatoes'\u001b[0m\u001b[1;33m)\u001b[0m \u001b[1;31m#2nd Person\u001b[0m\u001b[1;33m\u001b[0m\u001b[1;33m\u001b[0m\u001b[0m\n\u001b[0m\u001b[0;32m      3\u001b[0m \u001b[0mmake_pizza\u001b[0m\u001b[1;33m(\u001b[0m\u001b[1;34m'bbqchicken'\u001b[0m\u001b[1;33m,\u001b[0m\u001b[1;34m'capsicum'\u001b[0m\u001b[1;33m)\u001b[0m\u001b[1;33m\u001b[0m\u001b[1;33m\u001b[0m\u001b[0m\n",
      "\u001b[1;31mTypeError\u001b[0m: make_pizza() takes 1 positional argument but 3 were given"
     ]
    }
   ],
   "source": [
    "make_pizza('corn')  #1st Person\n",
    "make_pizza('olives','onions','tomatoes') #2nd Person\n",
    "make_pizza('bbqchicken','capsicum')"
   ]
  },
  {
   "cell_type": "code",
   "execution_count": 11,
   "metadata": {},
   "outputs": [
    {
     "name": "stdout",
     "output_type": "stream",
     "text": [
      "('corn',)\n"
     ]
    }
   ],
   "source": [
    "make_pizza('corn')  #1st Person"
   ]
  },
  {
   "cell_type": "code",
   "execution_count": 8,
   "metadata": {},
   "outputs": [],
   "source": [
    "def make_pizza(*topping):\n",
    "    \"\"\"creating a function for getting the details of topping:\"\"\"\n",
    "    print(topping)"
   ]
  },
  {
   "cell_type": "code",
   "execution_count": 9,
   "metadata": {},
   "outputs": [
    {
     "name": "stdout",
     "output_type": "stream",
     "text": [
      "('corn',)\n",
      "('olives', 'onions', 'tomatoes')\n",
      "('bbqchicken', 'capsicum')\n"
     ]
    }
   ],
   "source": [
    "make_pizza('corn')  #1st Person\n",
    "make_pizza('olives','onions','tomatoes') #2nd Person\n",
    "make_pizza('bbqchicken','capsicum')"
   ]
  },
  {
   "cell_type": "code",
   "execution_count": null,
   "metadata": {},
   "outputs": [],
   "source": []
  },
  {
   "cell_type": "code",
   "execution_count": null,
   "metadata": {},
   "outputs": [],
   "source": [
    "implementation of a for loop with functions:"
   ]
  },
  {
   "cell_type": "code",
   "execution_count": 19,
   "metadata": {},
   "outputs": [],
   "source": [
    "def make_pizza(*topping):\n",
    "    \"\"\"Summarize the pizza we are about to make\"\"\"\n",
    "    print(\"\\nMaking a pizza with the following toping:-\")\n",
    "    for toping in topping:    #for loop implementation\n",
    "        print(f\" -{toping}\")"
   ]
  },
  {
   "cell_type": "code",
   "execution_count": 20,
   "metadata": {},
   "outputs": [
    {
     "name": "stdout",
     "output_type": "stream",
     "text": [
      "\n",
      "Making a pizza with the following toping:-\n",
      " -corn\n",
      "\n",
      "Making a pizza with the following toping:-\n",
      " -olives\n",
      " -onions\n",
      " -tomatoes\n",
      "\n",
      "Making a pizza with the following toping:-\n",
      " -bbqchicken\n",
      " -capsicum\n"
     ]
    }
   ],
   "source": [
    "make_pizza('corn')\n",
    "make_pizza('olives','onions','tomatoes')\n",
    "make_pizza('bbqchicken','capsicum')"
   ]
  },
  {
   "cell_type": "code",
   "execution_count": null,
   "metadata": {},
   "outputs": [],
   "source": [
    "mixture of positional and arbitary arguments:  #enahancement of the code......!!!"
   ]
  },
  {
   "cell_type": "code",
   "execution_count": null,
   "metadata": {},
   "outputs": [],
   "source": [
    "#3 categories, Regular, Medium, Small...!"
   ]
  },
  {
   "cell_type": "code",
   "execution_count": 28,
   "metadata": {},
   "outputs": [],
   "source": [
    "def make_pizza(size, *toppings):\n",
    "    \"\"\"summarize the pizza we are about to make\"\"\"\n",
    "    print(\"\\nmaking a pizza with the following topping:-\")\n",
    "    for toping in toppings:     #for loop implementation\n",
    "        print(f\" -{toping}\")"
   ]
  },
  {
   "cell_type": "code",
   "execution_count": 29,
   "metadata": {},
   "outputs": [
    {
     "name": "stdout",
     "output_type": "stream",
     "text": [
      "\n",
      "making a pizza with the following topping:-\n",
      " -corn\n",
      " -onions\n"
     ]
    }
   ],
   "source": [
    "make_pizza('regular','corn','onions')"
   ]
  },
  {
   "cell_type": "code",
   "execution_count": null,
   "metadata": {},
   "outputs": [],
   "source": []
  },
  {
   "cell_type": "code",
   "execution_count": null,
   "metadata": {},
   "outputs": [],
   "source": []
  },
  {
   "cell_type": "code",
   "execution_count": 47,
   "metadata": {},
   "outputs": [],
   "source": [
    "def make_pizza(size, *toppings):\n",
    "    \"\"\"creating a funcion to make a pizza\"\"\"\n",
    "    print(f\"I have ordered a {size} pizza with the following {toppings}\")"
   ]
  },
  {
   "cell_type": "code",
   "execution_count": 48,
   "metadata": {},
   "outputs": [
    {
     "name": "stdout",
     "output_type": "stream",
     "text": [
      "I have ordered a Regular pizza with the following ('Onions', 'bbqchicken')\n"
     ]
    }
   ],
   "source": [
    "make_pizza('Regular','Onions','bbqchicken')"
   ]
  },
  {
   "cell_type": "code",
   "execution_count": 70,
   "metadata": {},
   "outputs": [],
   "source": [
    "def make_pizza(size, *toppings):\n",
    "    \"\"\"summarize the pizza we are about to make\"\"\"\n",
    "    print(\"\\nmaking a pizza with the following topping:-\")\n",
    "    for toping in toppings:     #for loop implementation\n",
    "        print(f\"\\nI have ordered a {size} pizza with -{toping} toppings\")"
   ]
  },
  {
   "cell_type": "code",
   "execution_count": 71,
   "metadata": {},
   "outputs": [
    {
     "name": "stdout",
     "output_type": "stream",
     "text": [
      "\n",
      "making a pizza with the following topping:-\n",
      "\n",
      "I have ordered a Regular pizza with -Onions toppings\n",
      "\n",
      "I have ordered a Regular pizza with -bbqchicken toppings\n"
     ]
    }
   ],
   "source": [
    "make_pizza('Regular','Onions','bbqchicken')"
   ]
  },
  {
   "cell_type": "code",
   "execution_count": null,
   "metadata": {},
   "outputs": [],
   "source": []
  }
 ],
 "metadata": {
  "kernelspec": {
   "display_name": "Python 3",
   "language": "python",
   "name": "python3"
  },
  "language_info": {
   "codemirror_mode": {
    "name": "ipython",
    "version": 3
   },
   "file_extension": ".py",
   "mimetype": "text/x-python",
   "name": "python",
   "nbconvert_exporter": "python",
   "pygments_lexer": "ipython3",
   "version": "3.7.6"
  }
 },
 "nbformat": 4,
 "nbformat_minor": 4
}
