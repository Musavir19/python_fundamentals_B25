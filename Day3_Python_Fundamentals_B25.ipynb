{
 "cells": [
  {
   "cell_type": "code",
   "execution_count": 1,
   "metadata": {},
   "outputs": [],
   "source": [
    "#Req : to get the full name \n",
    "first_name = \"Musavir\"  \n",
    "last_name = \"Khan\""
   ]
  },
  {
   "cell_type": "code",
   "execution_count": 5,
   "metadata": {},
   "outputs": [
    {
     "name": "stdout",
     "output_type": "stream",
     "text": [
      " Musavir Khan \n"
     ]
    }
   ],
   "source": [
    "#general syntax of a F strings\n",
    "#x = f\" {place holder1} {place holder2} \"\n",
    "full_name = f\" {first_name} {last_name} \"  #referencing point of the above variable .... #place holders\n",
    "print (full_name)"
   ]
  },
  {
   "cell_type": "code",
   "execution_count": 8,
   "metadata": {},
   "outputs": [
    {
     "name": "stdout",
     "output_type": "stream",
     "text": [
      "hello, Musavir Khan  \n"
     ]
    }
   ],
   "source": [
    "#enhancement of the code\n",
    "x = f\"hello,{full_name.title()} \"\n",
    "print (x)"
   ]
  },
  {
   "cell_type": "code",
   "execution_count": 13,
   "metadata": {},
   "outputs": [
    {
     "name": "stdout",
     "output_type": "stream",
     "text": [
      "fav_languages : pythonjavarubycobalc++\n"
     ]
    }
   ],
   "source": [
    "#Adding whitespaces to a string:\n",
    "print ( 'fav_languages : pythonjavarubycobalc++' )"
   ]
  },
  {
   "cell_type": "code",
   "execution_count": 14,
   "metadata": {},
   "outputs": [
    {
     "name": "stdout",
     "output_type": "stream",
     "text": [
      "fav_languages : \n",
      "python\n",
      "java\n",
      "ruby\n",
      "cobal\n",
      "c++\n"
     ]
    }
   ],
   "source": [
    "#enhancement of the code:  \n",
    "print ( 'fav_languages : \\npython\\njava\\nruby\\ncobal\\nc++' )  #newline delimeter"
   ]
  },
  {
   "cell_type": "code",
   "execution_count": 15,
   "metadata": {},
   "outputs": [
    {
     "name": "stdout",
     "output_type": "stream",
     "text": [
      "fav_languages : \n",
      "\tpython\n",
      "\tjava\n",
      "\truby\n",
      "\tcobal\n",
      "\tc++\n"
     ]
    }
   ],
   "source": [
    "#in other terms:\n",
    "print ( 'fav_languages : \\n\\tpython\\n\\tjava\\n\\truby\\n\\tcobal\\n\\tc++' ) #tab delimeter"
   ]
  },
  {
   "cell_type": "code",
   "execution_count": null,
   "metadata": {},
   "outputs": [],
   "source": []
  }
 ],
 "metadata": {
  "kernelspec": {
   "display_name": "Python 3",
   "language": "python",
   "name": "python3"
  },
  "language_info": {
   "codemirror_mode": {
    "name": "ipython",
    "version": 3
   },
   "file_extension": ".py",
   "mimetype": "text/x-python",
   "name": "python",
   "nbconvert_exporter": "python",
   "pygments_lexer": "ipython3",
   "version": "3.7.6"
  }
 },
 "nbformat": 4,
 "nbformat_minor": 4
}
